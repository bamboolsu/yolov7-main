{
 "cells": [
  {
   "cell_type": "code",
   "execution_count": 1,
   "id": "d26ba7db",
   "metadata": {},
   "outputs": [],
   "source": [
    "import yaml\n",
    "import os\n",
    "import json\n",
    "import cv2\n",
    "import torch\n",
    "import numpy as np\n",
    "import matplotlib.pyplot as plt"
   ]
  },
  {
   "cell_type": "code",
   "execution_count": null,
   "metadata": {},
   "outputs": [],
   "source": [
    "# 1，准备 一些 电视的图像\n",
    "# 2，labelme 标注图像 保存为json格式\n",
    "  # conda install pyqt pillow\n",
    "  # conda install labelme\n",
    "  # 在刚才安装好的窗口下输入labelme后便可打开labelme\n",
    "  # 在label， 选择长方形标注， 标注类型为0， 之后 把一张张图片的标注信息保存到相应的json文件中；\n",
    "# 3， json文件格式转换为coco的文本文件格式；\n",
    "  #(py39-torch1.12.1) [lsu@localhost leo_tupian]$ pwd\n",
    "    #/home/lsu/github/yolov7-main-bamboolsu/leo_tupian\n",
    "# 4, 转换好的 txt 与 jpg图片放到一起；\n",
    "\n",
    "# 5， 下面运行 preprocessing.py，  根据leo_training 目录的txt文件，生产imglist，然后放入img_path.txt 文件中 \n",
    "    #根据img_path.txt的内容， 1:5 的比例拆分为validate.txt 与 train.txt  两个文件 ， 这两个文件里面是jpg的文件列表，用于后面的训练与验证；\n",
    "    # .\n"
   ]
  },
  {
   "cell_type": "code",
   "execution_count": 2,
   "id": "6a80f736",
   "metadata": {},
   "outputs": [],
   "source": [
    "!python3 preprocessing.py"
   ]
  },
  {
   "cell_type": "code",
   "execution_count": null,
   "id": "0034c858",
   "metadata": {},
   "outputs": [],
   "source": [
    "# 1， 准备数据配置文件 data/leo_cust.yaml 主要内容：\n",
    "    #train: train.txt  # 118287 images\n",
    "    #val: validate.txt  # 5000 images\n",
    "\n",
    "    ## number of classes\n",
    "    #nc: 1\n",
    "\n",
    "    ## class names leo add\n",
    "    #names: ['tv']\n",
    "\n",
    "# 2, 准备模型配置文件   cfg/traning/leo_yolov7.yaml 主要修改训练类别的个数\n",
    "    ## parameters\n",
    "    #nc: 1  # number of classes\n"
   ]
  },
  {
   "cell_type": "code",
   "execution_count": null,
   "id": "c937d2a5",
   "metadata": {},
   "outputs": [],
   "source": [
    "!python3 train.py --data data/cust.yaml --cfg cfg/training/yolov7-tiny.yaml --hyp data/hyp.scratch.custom.yaml --device 0,1 --img-size 832 --weights runs/train/kk2/weights/last.pt --name lsu33 --sync-bn --batch-size 16 --epochs 50"
   ]
  },
  {
   "cell_type": "code",
   "execution_count": null,
   "id": "e74a5a8c",
   "metadata": {},
   "outputs": [],
   "source": []
  },
  {
   "cell_type": "code",
   "execution_count": null,
   "id": "cb208cdd",
   "metadata": {},
   "outputs": [],
   "source": [
    "!python3 yolov7_train_pruned.py --data data/cust.yaml --cfg cfg/deploy/yolov7-tiny.yaml --hyp data/hyp.scratch.custom.yaml --device 0,1 --img-size 832 --weights yolov7-tiny.pt --name lsu1 --sync-bn --batch-size 16 --epochs 999"
   ]
  },
  {
   "cell_type": "code",
   "execution_count": null,
   "id": "2bd7d5ac",
   "metadata": {},
   "outputs": [],
   "source": []
  },
  {
   "cell_type": "code",
   "execution_count": 17,
   "id": "d2a8a570",
   "metadata": {},
   "outputs": [
    {
     "data": {
      "text/plain": [
       "120.0"
      ]
     },
     "execution_count": 17,
     "metadata": {},
     "output_type": "execute_result"
    }
   ],
   "source": []
  },
  {
   "cell_type": "code",
   "execution_count": null,
   "id": "a2ec2127",
   "metadata": {},
   "outputs": [],
   "source": [
    "#import torch\n",
    "#print(torch.__version__)   #1.12.1+cu116\n",
    "!python train.py --data data/custom_kpts.yaml --cfg cfg/yolov7-w6-pose_custom.yaml --hyp data/hyp.pose.yaml --device 0 --kpt-label --epochs 600"
   ]
  },
  {
   "attachments": {},
   "cell_type": "markdown",
   "id": "db0d56bd",
   "metadata": {},
   "source": [
    "# Test:"
   ]
  },
  {
   "cell_type": "code",
   "execution_count": null,
   "id": "103f4b42",
   "metadata": {},
   "outputs": [],
   "source": [
    "#!python test.py --data data/custom_kpts.yaml --img 640 --conf 0.001 --iou 0.65 --weights runs/train/exp/weights/best.pt --kpt-label"
   ]
  },
  {
   "attachments": {},
   "cell_type": "markdown",
   "id": "d660f5df",
   "metadata": {},
   "source": [
    "# Detect:"
   ]
  },
  {
   "cell_type": "code",
   "execution_count": null,
   "id": "531068ff",
   "metadata": {},
   "outputs": [],
   "source": [
    "!python3 yolov7_detect_pruned.py --weights runs/train/ycx16/weights/best.pt --source taiyuan_cx_ycx --conf 0.45 --iou 0.10"
   ]
  },
  {
   "cell_type": "code",
   "execution_count": null,
   "id": "4500e759",
   "metadata": {},
   "outputs": [],
   "source": [
    "# 预测/推断， \n",
    "    #official detect\n",
    "    #python detect.py --weights yolov7.pt --conf 0.25 --img-size 640 --source inference/images/20231207103708.jpg \n",
    "\n",
    "    #leo detect --conf 0.45 --iou 0.10\n",
    "    #python  detect.py --weights ./runs/train/yolov7-epoch100-batch3-worker6/weights/best.pt --source  ./test/ \n",
    "\n",
    "\n",
    "# 预测、推断结果查看\n",
    "    # 位置： runs/train/yolov7-epoch150-batch4-worker 里面是整个结果\n",
    "        #此目录下的weights是权重；"
   ]
  },
  {
   "cell_type": "code",
   "execution_count": null,
   "id": "f3f0c82a",
   "metadata": {},
   "outputs": [],
   "source": [
    "!python3.6 detect.py --weights ../weights/hd/weights/best.pt --source test --conf 0.45 --iou 0.10"
   ]
  },
  {
   "cell_type": "code",
   "execution_count": null,
   "id": "9104fbdd",
   "metadata": {},
   "outputs": [],
   "source": []
  },
  {
   "cell_type": "code",
   "execution_count": null,
   "id": "aa7aa891",
   "metadata": {},
   "outputs": [],
   "source": []
  },
  {
   "cell_type": "code",
   "execution_count": null,
   "id": "0b7f803f",
   "metadata": {},
   "outputs": [],
   "source": []
  }
 ],
 "metadata": {
  "kernelspec": {
   "display_name": "Python 3 (ipykernel)",
   "language": "python",
   "name": "python3"
  },
  "language_info": {
   "codemirror_mode": {
    "name": "ipython",
    "version": 3
   },
   "file_extension": ".py",
   "mimetype": "text/x-python",
   "name": "python",
   "nbconvert_exporter": "python",
   "pygments_lexer": "ipython3",
   "version": "3.9.18"
  }
 },
 "nbformat": 4,
 "nbformat_minor": 5
}
